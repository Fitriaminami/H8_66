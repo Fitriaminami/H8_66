{
 "cells": [
  {
   "cell_type": "code",
   "execution_count": 4,
   "id": "e4dccb08",
   "metadata": {},
   "outputs": [],
   "source": [
    "import math\n",
    "import statistics\n",
    "import numpy as np\n",
    "import scipy.stats\n",
    "import pandas as pd"
   ]
  },
  {
   "cell_type": "code",
   "execution_count": 13,
   "id": "098b646d",
   "metadata": {},
   "outputs": [
    {
     "name": "stdout",
     "output_type": "stream",
     "text": [
      "[8.0, 1, 2.5, 4, 28.0]\n",
      "[8.0, 1, 2.5, nan, 4, 28.0]\n"
     ]
    }
   ],
   "source": [
    "x = [8.0, 1, 2.5, 4, 28.0]\n",
    "x_with_nan = [8.0, 1, 2.5, math.nan, 4, 28.0]\n",
    "print(x)\n",
    "print(x_with_nan)"
   ]
  },
  {
   "cell_type": "code",
   "execution_count": 14,
   "id": "2a4952b0",
   "metadata": {},
   "outputs": [
    {
     "name": "stdout",
     "output_type": "stream",
     "text": [
      "[ 8.   1.   2.5  4.  28. ]\n",
      "[ 8.   1.   2.5  nan  4.  28. ]\n",
      "0     8.0\n",
      "1     1.0\n",
      "2     2.5\n",
      "3     NaN\n",
      "4     4.0\n",
      "5    28.0\n",
      "dtype: float64\n"
     ]
    }
   ],
   "source": [
    "y, y_with_nan = np.array(x), np.array(x_with_nan)\n",
    "z, z_with_nan = pd.Series(x), pd.Series(x_with_nan)\n",
    "print(y)\n",
    "print(y_with_nan)\n",
    "print(z_with_nan)"
   ]
  },
  {
   "cell_type": "markdown",
   "id": "5d3857db",
   "metadata": {},
   "source": [
    "#Mean "
   ]
  },
  {
   "cell_type": "code",
   "execution_count": 15,
   "id": "5a9d0ffa",
   "metadata": {},
   "outputs": [
    {
     "data": {
      "text/plain": [
       "8.7"
      ]
     },
     "execution_count": 15,
     "metadata": {},
     "output_type": "execute_result"
    }
   ],
   "source": [
    "mean_ = sum(x)/len(x)\n",
    "mean_"
   ]
  },
  {
   "cell_type": "code",
   "execution_count": 17,
   "id": "0ed9278e",
   "metadata": {},
   "outputs": [
    {
     "name": "stdout",
     "output_type": "stream",
     "text": [
      "8.7\n"
     ]
    }
   ],
   "source": [
    "mean_ = statistics.mean(x)\n",
    "print(mean_)"
   ]
  },
  {
   "cell_type": "code",
   "execution_count": 18,
   "id": "752fbfe7",
   "metadata": {},
   "outputs": [
    {
     "data": {
      "text/plain": [
       "8.7"
      ]
     },
     "execution_count": 18,
     "metadata": {},
     "output_type": "execute_result"
    }
   ],
   "source": [
    "mean_ = y.mean()\n",
    "mean_"
   ]
  },
  {
   "cell_type": "code",
   "execution_count": 19,
   "id": "29881cbd",
   "metadata": {},
   "outputs": [
    {
     "name": "stdout",
     "output_type": "stream",
     "text": [
      "nan\n",
      "nan\n"
     ]
    }
   ],
   "source": [
    "print(np.mean(y_with_nan))\n",
    "print(y_with_nan.mean())"
   ]
  },
  {
   "cell_type": "code",
   "execution_count": 20,
   "id": "7f63830b",
   "metadata": {},
   "outputs": [
    {
     "data": {
      "text/plain": [
       "8.7"
      ]
     },
     "execution_count": 20,
     "metadata": {},
     "output_type": "execute_result"
    }
   ],
   "source": [
    "mean_ = z.mean()\n",
    "mean_"
   ]
  },
  {
   "cell_type": "code",
   "execution_count": 21,
   "id": "e708d45e",
   "metadata": {},
   "outputs": [
    {
     "data": {
      "text/plain": [
       "8.7"
      ]
     },
     "execution_count": 21,
     "metadata": {},
     "output_type": "execute_result"
    }
   ],
   "source": [
    "z_with_nan.mean()"
   ]
  },
  {
   "cell_type": "markdown",
   "id": "bdb098aa",
   "metadata": {},
   "source": [
    "# Weighted Mean"
   ]
  },
  {
   "cell_type": "code",
   "execution_count": 22,
   "id": "1e7479bb",
   "metadata": {},
   "outputs": [
    {
     "data": {
      "text/plain": [
       "4.8"
      ]
     },
     "execution_count": 22,
     "metadata": {},
     "output_type": "execute_result"
    }
   ],
   "source": [
    "0.2 * 2 + 0.5 * 4 + 0.3 * 8"
   ]
  },
  {
   "cell_type": "code",
   "execution_count": 24,
   "id": "a8d3791a",
   "metadata": {},
   "outputs": [
    {
     "name": "stdout",
     "output_type": "stream",
     "text": [
      "6.95\n"
     ]
    },
    {
     "ename": "NameError",
     "evalue": "name 'x_' is not defined",
     "output_type": "error",
     "traceback": [
      "\u001b[1;31m---------------------------------------------------------------------------\u001b[0m",
      "\u001b[1;31mNameError\u001b[0m                                 Traceback (most recent call last)",
      "\u001b[1;32m<ipython-input-24-8d29cf5d311f>\u001b[0m in \u001b[0;36m<module>\u001b[1;34m\u001b[0m\n\u001b[0;32m      5\u001b[0m \u001b[0mprint\u001b[0m\u001b[1;33m(\u001b[0m\u001b[0mwmean\u001b[0m\u001b[1;33m)\u001b[0m\u001b[1;33m\u001b[0m\u001b[1;33m\u001b[0m\u001b[0m\n\u001b[0;32m      6\u001b[0m \u001b[1;33m\u001b[0m\u001b[0m\n\u001b[1;32m----> 7\u001b[1;33m \u001b[0mwmean\u001b[0m \u001b[1;33m=\u001b[0m \u001b[0msum\u001b[0m\u001b[1;33m(\u001b[0m\u001b[0mx_\u001b[0m \u001b[1;33m*\u001b[0m \u001b[0mw_for\u001b[0m\u001b[1;33m(\u001b[0m\u001b[0mx_\u001b[0m\u001b[1;33m,\u001b[0m\u001b[0mw_\u001b[0m\u001b[1;33m)\u001b[0m \u001b[1;32min\u001b[0m \u001b[0mzip\u001b[0m\u001b[1;33m(\u001b[0m\u001b[0mx\u001b[0m\u001b[1;33m,\u001b[0m\u001b[0mw\u001b[0m\u001b[1;33m)\u001b[0m\u001b[1;33m)\u001b[0m\u001b[1;33m/\u001b[0m\u001b[0msum\u001b[0m\u001b[1;33m(\u001b[0m\u001b[0mw\u001b[0m\u001b[1;33m)\u001b[0m\u001b[1;33m\u001b[0m\u001b[1;33m\u001b[0m\u001b[0m\n\u001b[0m\u001b[0;32m      8\u001b[0m \u001b[0mprint\u001b[0m \u001b[1;33m(\u001b[0m\u001b[0mwmean\u001b[0m\u001b[1;33m)\u001b[0m\u001b[1;33m\u001b[0m\u001b[1;33m\u001b[0m\u001b[0m\n",
      "\u001b[1;31mNameError\u001b[0m: name 'x_' is not defined"
     ]
    }
   ],
   "source": [
    "x = [8.0, 1, 2.5, 4, 28.0]\n",
    "w = [0.1, 0.2, 0.3, 0.25, 0.15]\n",
    "\n",
    "wmean = sum(w[i] * x[i] for i in range(len(x)))/ sum(w) \n",
    "print(wmean)\n",
    "\n",
    "wmean = sum(x_ * w_for(x_,w_) in zip(x,w))/sum(w)\n",
    "print (wmean)"
   ]
  },
  {
   "cell_type": "code",
   "execution_count": 27,
   "id": "9d286c69",
   "metadata": {},
   "outputs": [
    {
     "name": "stdout",
     "output_type": "stream",
     "text": [
      "6.95\n",
      "6.95\n"
     ]
    }
   ],
   "source": [
    "y, z, w - np.array(x), pd.Series(x), np.array(w)\n",
    "\n",
    "wmean = np.average(y,weights=w)\n",
    "print(wmean)\n",
    "\n",
    "wmean = np.average(z,weights=w)\n",
    "print(wmean)\n"
   ]
  },
  {
   "cell_type": "code",
   "execution_count": 30,
   "id": "69a48c63",
   "metadata": {},
   "outputs": [
    {
     "ename": "AttributeError",
     "evalue": "'list' object has no attribute 'sum'",
     "output_type": "error",
     "traceback": [
      "\u001b[1;31m---------------------------------------------------------------------------\u001b[0m",
      "\u001b[1;31mAttributeError\u001b[0m                            Traceback (most recent call last)",
      "\u001b[1;32m<ipython-input-30-f24b30c8b2f2>\u001b[0m in \u001b[0;36m<module>\u001b[1;34m\u001b[0m\n\u001b[1;32m----> 1\u001b[1;33m \u001b[1;33m(\u001b[0m\u001b[0mw\u001b[0m \u001b[1;33m*\u001b[0m \u001b[0my\u001b[0m\u001b[1;33m)\u001b[0m\u001b[1;33m.\u001b[0m\u001b[0msum\u001b[0m\u001b[1;33m(\u001b[0m\u001b[1;33m)\u001b[0m \u001b[1;33m/\u001b[0m \u001b[0mw\u001b[0m\u001b[1;33m.\u001b[0m\u001b[0msum\u001b[0m\u001b[1;33m(\u001b[0m\u001b[1;33m)\u001b[0m\u001b[1;33m\u001b[0m\u001b[1;33m\u001b[0m\u001b[0m\n\u001b[0m",
      "\u001b[1;31mAttributeError\u001b[0m: 'list' object has no attribute 'sum'"
     ]
    }
   ],
   "source": [
    "(w * y).sum() / w.sum()"
   ]
  },
  {
   "cell_type": "markdown",
   "id": "d04fa602",
   "metadata": {},
   "source": [
    "# Harmonic Mean"
   ]
  },
  {
   "cell_type": "code",
   "execution_count": 31,
   "id": "7c92f8b1",
   "metadata": {},
   "outputs": [
    {
     "data": {
      "text/plain": [
       "2.7613412228796843"
      ]
     },
     "execution_count": 31,
     "metadata": {},
     "output_type": "execute_result"
    }
   ],
   "source": [
    "hmean = len(x) / sum(1/item for item in x)\n",
    "hmean"
   ]
  },
  {
   "cell_type": "markdown",
   "id": "aa81197f",
   "metadata": {},
   "source": [
    "# Geometric Mean"
   ]
  },
  {
   "cell_type": "code",
   "execution_count": 32,
   "id": "cf7b9fe4",
   "metadata": {},
   "outputs": [
    {
     "data": {
      "text/plain": [
       "4.677885674856041"
      ]
     },
     "execution_count": 32,
     "metadata": {},
     "output_type": "execute_result"
    }
   ],
   "source": [
    "gmean = 1\n",
    "\n",
    "for item in x:\n",
    "    gmean *= item\n",
    "    \n",
    "gmean **=1/len(x)\n",
    "gmean"
   ]
  },
  {
   "cell_type": "markdown",
   "id": "ec44fae3",
   "metadata": {},
   "source": [
    "# Median"
   ]
  },
  {
   "cell_type": "code",
   "execution_count": 34,
   "id": "6a8f6485",
   "metadata": {},
   "outputs": [
    {
     "name": "stdout",
     "output_type": "stream",
     "text": [
      "4.0\n"
     ]
    }
   ],
   "source": [
    "median_ = np.median(y)\n",
    "print(median_)"
   ]
  },
  {
   "cell_type": "markdown",
   "id": "09630c87",
   "metadata": {},
   "source": [
    "# Mode"
   ]
  },
  {
   "cell_type": "code",
   "execution_count": 35,
   "id": "fa0d5224",
   "metadata": {},
   "outputs": [],
   "source": [
    "u = [2,3,2,8,12]\n",
    "v = [12,15,12,15,21,15,12]"
   ]
  },
  {
   "cell_type": "code",
   "execution_count": 36,
   "id": "60d19c55",
   "metadata": {},
   "outputs": [
    {
     "data": {
      "text/plain": [
       "2"
      ]
     },
     "execution_count": 36,
     "metadata": {},
     "output_type": "execute_result"
    }
   ],
   "source": [
    "mode_ = max((u.count(item), item) for item in set(u))[1]\n",
    "mode_"
   ]
  },
  {
   "cell_type": "markdown",
   "id": "6086d0bd",
   "metadata": {},
   "source": [
    "# Measures of Variability"
   ]
  },
  {
   "cell_type": "code",
   "execution_count": 37,
   "id": "1f66d44e",
   "metadata": {},
   "outputs": [
    {
     "data": {
      "text/plain": [
       "123.19999999999999"
      ]
     },
     "execution_count": 37,
     "metadata": {},
     "output_type": "execute_result"
    }
   ],
   "source": [
    "n = len(x)\n",
    "\n",
    "mean_ = sum(x) / n\n",
    "\n",
    "var_ = sum((item - mean_)**2 for item in x) / (n-1)\n",
    "var_"
   ]
  },
  {
   "cell_type": "code",
   "execution_count": 39,
   "id": "ee33b0ef",
   "metadata": {},
   "outputs": [
    {
     "data": {
      "text/plain": [
       "123.2"
      ]
     },
     "execution_count": 39,
     "metadata": {},
     "output_type": "execute_result"
    }
   ],
   "source": [
    "var_ = statistics.variance(x)\n",
    "var_"
   ]
  },
  {
   "cell_type": "markdown",
   "id": "5dd2d293",
   "metadata": {},
   "source": [
    "# Standard Deviation"
   ]
  },
  {
   "cell_type": "code",
   "execution_count": 42,
   "id": "80cc811d",
   "metadata": {},
   "outputs": [
    {
     "data": {
      "text/plain": [
       "11.099549540409287"
      ]
     },
     "execution_count": 42,
     "metadata": {},
     "output_type": "execute_result"
    }
   ],
   "source": [
    "std_ = var_ ** 0.5\n",
    "std_"
   ]
  },
  {
   "cell_type": "markdown",
   "id": "97bf32f7",
   "metadata": {},
   "source": [
    "# Skewness"
   ]
  },
  {
   "cell_type": "code",
   "execution_count": 43,
   "id": "4a9e9d70",
   "metadata": {},
   "outputs": [
    {
     "data": {
      "text/plain": [
       "1.9470432273905927"
      ]
     },
     "execution_count": 43,
     "metadata": {},
     "output_type": "execute_result"
    }
   ],
   "source": [
    "y, y_with_nan = np.array(x), np. array(x_with_nan)\n",
    "\n",
    "scipy.stats.skew(y, bias = False)"
   ]
  },
  {
   "cell_type": "markdown",
   "id": "c1eeb803",
   "metadata": {},
   "source": [
    "# Percentiles"
   ]
  },
  {
   "cell_type": "code",
   "execution_count": 44,
   "id": "bbf50a0f",
   "metadata": {},
   "outputs": [
    {
     "data": {
      "text/plain": [
       "[0.1, 8, 21]"
      ]
     },
     "execution_count": 44,
     "metadata": {},
     "output_type": "execute_result"
    }
   ],
   "source": [
    ">>> x = [-5, -1.1, 0.1, 2, 8, 12.8, 21, 25.8, 41]\n",
    ">>> statistics.quantiles (x, n = 2)\n",
    "[8]\n",
    ">>> statistics.quantiles(x, n=4, method='inclusive')\n",
    "[0.1, 8, 21]"
   ]
  },
  {
   "cell_type": "markdown",
   "id": "c8440448",
   "metadata": {},
   "source": [
    "# Range"
   ]
  },
  {
   "cell_type": "code",
   "execution_count": 47,
   "id": "e5d1d07d",
   "metadata": {},
   "outputs": [
    {
     "data": {
      "text/plain": [
       "27.0"
      ]
     },
     "execution_count": 47,
     "metadata": {},
     "output_type": "execute_result"
    }
   ],
   "source": [
    ">>> np.ptp(y)\n"
   ]
  },
  {
   "cell_type": "code",
   "execution_count": 46,
   "id": "c4a3aee5",
   "metadata": {},
   "outputs": [
    {
     "data": {
      "text/plain": [
       "27.0"
      ]
     },
     "execution_count": 46,
     "metadata": {},
     "output_type": "execute_result"
    }
   ],
   "source": [
    "min"
   ]
  },
  {
   "cell_type": "markdown",
   "id": "61ede225",
   "metadata": {},
   "source": [
    "# Summary of Desciptive Statistics"
   ]
  },
  {
   "cell_type": "code",
   "execution_count": 48,
   "id": "545c51a8",
   "metadata": {},
   "outputs": [],
   "source": [
    "result = scipy.stats.describe(y, ddof=1, bias=False)"
   ]
  },
  {
   "cell_type": "code",
   "execution_count": 50,
   "id": "d8aebda5",
   "metadata": {},
   "outputs": [
    {
     "data": {
      "text/plain": [
       "DescribeResult(nobs=5, minmax=(1.0, 28.0), mean=8.7, variance=123.19999999999999, skewness=1.9470432273905927, kurtosis=3.878019618875446)"
      ]
     },
     "execution_count": 50,
     "metadata": {},
     "output_type": "execute_result"
    }
   ],
   "source": [
    "result"
   ]
  },
  {
   "cell_type": "code",
   "execution_count": 51,
   "id": "e6806280",
   "metadata": {},
   "outputs": [
    {
     "data": {
      "text/plain": [
       "8.7"
      ]
     },
     "execution_count": 51,
     "metadata": {},
     "output_type": "execute_result"
    }
   ],
   "source": [
    "result.mean"
   ]
  },
  {
   "cell_type": "code",
   "execution_count": 52,
   "id": "ab60518b",
   "metadata": {},
   "outputs": [
    {
     "data": {
      "text/plain": [
       "1.9470432273905927"
      ]
     },
     "execution_count": 52,
     "metadata": {},
     "output_type": "execute_result"
    }
   ],
   "source": [
    "result.skewness"
   ]
  },
  {
   "cell_type": "code",
   "execution_count": 53,
   "id": "ad4262f6",
   "metadata": {},
   "outputs": [
    {
     "data": {
      "text/plain": [
       "count     5.00000\n",
       "mean      8.70000\n",
       "std      11.09955\n",
       "min       1.00000\n",
       "25%       2.50000\n",
       "50%       4.00000\n",
       "75%       8.00000\n",
       "max      28.00000\n",
       "dtype: float64"
      ]
     },
     "execution_count": 53,
     "metadata": {},
     "output_type": "execute_result"
    }
   ],
   "source": [
    "z.describe()"
   ]
  },
  {
   "cell_type": "code",
   "execution_count": null,
   "id": "c42af5ad",
   "metadata": {},
   "outputs": [],
   "source": []
  }
 ],
 "metadata": {
  "kernelspec": {
   "display_name": "Python 3",
   "language": "python",
   "name": "python3"
  },
  "language_info": {
   "codemirror_mode": {
    "name": "ipython",
    "version": 3
   },
   "file_extension": ".py",
   "mimetype": "text/x-python",
   "name": "python",
   "nbconvert_exporter": "python",
   "pygments_lexer": "ipython3",
   "version": "3.8.8"
  }
 },
 "nbformat": 4,
 "nbformat_minor": 5
}
