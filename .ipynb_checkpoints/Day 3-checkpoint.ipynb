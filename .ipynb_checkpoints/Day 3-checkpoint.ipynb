{
 "cells": [
  {
   "cell_type": "code",
   "execution_count": 1,
   "id": "21bc9a5e",
   "metadata": {},
   "outputs": [],
   "source": [
    "def nama_dari_function():\n",
    "    print('function oke')\n"
   ]
  },
  {
   "cell_type": "code",
   "execution_count": 2,
   "id": "60b61755",
   "metadata": {},
   "outputs": [
    {
     "name": "stdout",
     "output_type": "stream",
     "text": [
      "function oke\n"
     ]
    }
   ],
   "source": [
    "nama_dari_function()"
   ]
  },
  {
   "cell_type": "code",
   "execution_count": 3,
   "id": "3900940e",
   "metadata": {},
   "outputs": [],
   "source": [
    "def doc_panjang():\n",
    "    \"\"\"\"\n",
    "    bisa menuliskan function yang lebih panjang.\n",
    "    \n",
    "    \n",
    "    \n",
    "    \n",
    "    \n",
    "    lallalala\n",
    "    \"\"\"\n",
    "    "
   ]
  },
  {
   "cell_type": "code",
   "execution_count": 10,
   "id": "814dacea",
   "metadata": {},
   "outputs": [
    {
     "ename": "SyntaxError",
     "evalue": "invalid syntax (<ipython-input-10-523dcfbb6cc2>, line 1)",
     "output_type": "error",
     "traceback": [
      "\u001b[1;36m  File \u001b[1;32m\"<ipython-input-10-523dcfbb6cc2>\"\u001b[1;36m, line \u001b[1;32m1\u001b[0m\n\u001b[1;33m    def my_function(p, 1):\u001b[0m\n\u001b[1;37m                       ^\u001b[0m\n\u001b[1;31mSyntaxError\u001b[0m\u001b[1;31m:\u001b[0m invalid syntax\n"
     ]
    }
   ],
   "source": [
    "def my_function(p, 1):\n",
    "    \"Function menghitung luas\"\n",
    "    \n",
    "    print(p * 1)\n"
   ]
  },
  {
   "cell_type": "code",
   "execution_count": 11,
   "id": "341b93f1",
   "metadata": {},
   "outputs": [
    {
     "ename": "NameError",
     "evalue": "name 'my_function' is not defined",
     "output_type": "error",
     "traceback": [
      "\u001b[1;31m---------------------------------------------------------------------------\u001b[0m",
      "\u001b[1;31mNameError\u001b[0m                                 Traceback (most recent call last)",
      "\u001b[1;32m<ipython-input-11-45981d12bb28>\u001b[0m in \u001b[0;36m<module>\u001b[1;34m\u001b[0m\n\u001b[1;32m----> 1\u001b[1;33m \u001b[0mmy_function\u001b[0m\u001b[1;33m(\u001b[0m\u001b[1;36m2\u001b[0m\u001b[1;33m,\u001b[0m\u001b[1;36m4\u001b[0m\u001b[1;33m)\u001b[0m\u001b[1;33m\u001b[0m\u001b[1;33m\u001b[0m\u001b[0m\n\u001b[0m",
      "\u001b[1;31mNameError\u001b[0m: name 'my_function' is not defined"
     ]
    }
   ],
   "source": [
    "my_function(2,4)"
   ]
  },
  {
   "cell_type": "markdown",
   "id": "4e65fb81",
   "metadata": {},
   "source": [
    "# Pass by reference vs value"
   ]
  },
  {
   "cell_type": "code",
   "execution_count": 12,
   "id": "4b7cf5e5",
   "metadata": {},
   "outputs": [],
   "source": [
    "def changeme( mylist ):\n",
    "    \"This changes a passed list into thin function\"\n",
    "    mylist.append([1,2,3,4]);\n",
    "    print(\"Value inside the function\", mylist)\n",
    "    return"
   ]
  },
  {
   "cell_type": "code",
   "execution_count": 13,
   "id": "58439575",
   "metadata": {},
   "outputs": [
    {
     "name": "stdout",
     "output_type": "stream",
     "text": [
      "Value inside the function [10, 20, 30, [1, 2, 3, 4]]\n",
      "Value outside the function [10, 20, 30, [1, 2, 3, 4]]\n"
     ]
    }
   ],
   "source": [
    "mylist =[10,20,30];\n",
    "\n",
    "changeme(mylist);\n",
    "\n",
    "print(\"Value outside the function\", mylist)"
   ]
  },
  {
   "cell_type": "code",
   "execution_count": 14,
   "id": "a65e5ea9",
   "metadata": {},
   "outputs": [
    {
     "name": "stdout",
     "output_type": "stream",
     "text": [
      "Value inside the funtion (1, 2, 3, 4)\n",
      "Value outside the function:  [10, 20, 30]\n"
     ]
    }
   ],
   "source": [
    "def changeme(mylist):\n",
    "    \"This changes a passed list into this function\"\n",
    "    mylist = (1,2,3,4)\n",
    "    print(\"Value inside the funtion\", mylist)\n",
    "    return\n",
    "\n",
    "mylist = [10,20,30]\n",
    "changeme ( mylist );\n",
    "print (\"Value outside the function: \", mylist)"
   ]
  },
  {
   "cell_type": "markdown",
   "id": "2b80a4d9",
   "metadata": {},
   "source": [
    "# Keyword argument"
   ]
  },
  {
   "cell_type": "code",
   "execution_count": 21,
   "id": "464d4811",
   "metadata": {},
   "outputs": [],
   "source": [
    "def printme( str ):\n",
    "    print(str)\n",
    "    return;"
   ]
  },
  {
   "cell_type": "code",
   "execution_count": 19,
   "id": "79feee81",
   "metadata": {},
   "outputs": [
    {
     "ename": "TypeError",
     "evalue": "printme() missing 2 required positional arguments: 'arg2' and 'arg3'",
     "output_type": "error",
     "traceback": [
      "\u001b[1;31m---------------------------------------------------------------------------\u001b[0m",
      "\u001b[1;31mTypeError\u001b[0m                                 Traceback (most recent call last)",
      "\u001b[1;32m<ipython-input-19-cde85f0ca7f4>\u001b[0m in \u001b[0;36m<module>\u001b[1;34m\u001b[0m\n\u001b[1;32m----> 1\u001b[1;33m \u001b[0mprintme\u001b[0m\u001b[1;33m(\u001b[0m \u001b[0mstr\u001b[0m \u001b[1;33m=\u001b[0m \u001b[1;34m\"Hactiv8\"\u001b[0m\u001b[1;33m)\u001b[0m\u001b[1;33m\u001b[0m\u001b[1;33m\u001b[0m\u001b[0m\n\u001b[0m",
      "\u001b[1;31mTypeError\u001b[0m: printme() missing 2 required positional arguments: 'arg2' and 'arg3'"
     ]
    }
   ],
   "source": [
    "printme( str = \"Hactiv8\")"
   ]
  },
  {
   "cell_type": "markdown",
   "id": "dc11cb3b",
   "metadata": {},
   "source": [
    "# Anonymous Function"
   ]
  },
  {
   "cell_type": "code",
   "execution_count": 5,
   "id": "eb003ab3",
   "metadata": {},
   "outputs": [
    {
     "name": "stdout",
     "output_type": "stream",
     "text": [
      "Value of total:  30\n",
      "Value of total: 40\n"
     ]
    }
   ],
   "source": [
    "sum = lambda arg1, arg2: arg1 + arg2\n",
    "    \n",
    "print(\"Value of total: \", sum(10,20)) \n",
    "print(\"Value of total:\", sum(20,20))"
   ]
  },
  {
   "cell_type": "markdown",
   "id": "60fe3ee5",
   "metadata": {},
   "source": [
    "# the return statement"
   ]
  },
  {
   "cell_type": "code",
   "execution_count": 6,
   "id": "39715561",
   "metadata": {},
   "outputs": [
    {
     "name": "stdout",
     "output_type": "stream",
     "text": [
      "Inside the function 30\n",
      "Outside the function None\n"
     ]
    }
   ],
   "source": [
    "def sum(arg1, arg2):\n",
    "    total = arg1 + arg2\n",
    "    total2 = total + arg1\n",
    "    print(\"Inside the function\", total)\n",
    "    \n",
    "total = sum(10,20)\n",
    "print(\"Outside the function\", total)"
   ]
  },
  {
   "cell_type": "code",
   "execution_count": 9,
   "id": "1c7a8ca1",
   "metadata": {},
   "outputs": [
    {
     "data": {
      "text/plain": [
       "40"
      ]
     },
     "execution_count": 9,
     "metadata": {},
     "output_type": "execute_result"
    }
   ],
   "source": [
    "jumlahKucing = 20\n",
    "\n",
    "def jumlahHewan():\n",
    "    jumlahAnjing = 30\n",
    "    return jumlahKucing + jumlahAnjing\n",
    "\n",
    "def jumlahKelinci():\n",
    "    return jumlahKucing + jumlahKucing\n",
    "\n",
    "jumlahHewan()\n",
    "jumlahKelinci()"
   ]
  },
  {
   "cell_type": "markdown",
   "id": "677ac16d",
   "metadata": {},
   "source": [
    "# Python Modules"
   ]
  },
  {
   "cell_type": "code",
   "execution_count": 13,
   "id": "faabcf7f",
   "metadata": {},
   "outputs": [],
   "source": [
    "import mod"
   ]
  },
  {
   "cell_type": "code",
   "execution_count": 15,
   "id": "92b1d8da",
   "metadata": {},
   "outputs": [
    {
     "ename": "AttributeError",
     "evalue": "module 'mod' has no attribute 's'",
     "output_type": "error",
     "traceback": [
      "\u001b[1;31m---------------------------------------------------------------------------\u001b[0m",
      "\u001b[1;31mAttributeError\u001b[0m                            Traceback (most recent call last)",
      "\u001b[1;32m<ipython-input-15-d8ebf7a2e040>\u001b[0m in \u001b[0;36m<module>\u001b[1;34m\u001b[0m\n\u001b[1;32m----> 1\u001b[1;33m \u001b[0mprint\u001b[0m \u001b[1;33m(\u001b[0m\u001b[0mmod\u001b[0m\u001b[1;33m.\u001b[0m\u001b[0ms\u001b[0m\u001b[1;33m)\u001b[0m\u001b[1;33m\u001b[0m\u001b[1;33m\u001b[0m\u001b[0m\n\u001b[0m",
      "\u001b[1;31mAttributeError\u001b[0m: module 'mod' has no attribute 's'"
     ]
    }
   ],
   "source": [
    "print (mod.s)"
   ]
  },
  {
   "cell_type": "markdown",
   "id": "73128efc",
   "metadata": {},
   "source": [
    "# the module search path"
   ]
  },
  {
   "cell_type": "code",
   "execution_count": 16,
   "id": "c7355841",
   "metadata": {},
   "outputs": [],
   "source": [
    "import mod"
   ]
  },
  {
   "cell_type": "code",
   "execution_count": 18,
   "id": "0b5c4843",
   "metadata": {},
   "outputs": [
    {
     "data": {
      "text/plain": [
       "'C:\\\\Users\\\\fitria.minami\\\\Untitled Folder 1\\\\mod.py'"
      ]
     },
     "execution_count": 18,
     "metadata": {},
     "output_type": "execute_result"
    }
   ],
   "source": [
    "mod.__file__"
   ]
  },
  {
   "cell_type": "code",
   "execution_count": 20,
   "id": "baefdf2d",
   "metadata": {},
   "outputs": [
    {
     "data": {
      "text/plain": [
       "<module 'mod' from 'C:\\\\Users\\\\fitria.minami\\\\Untitled Folder 1\\\\mod.py'>"
      ]
     },
     "execution_count": 20,
     "metadata": {},
     "output_type": "execute_result"
    }
   ],
   "source": [
    "import mod\n",
    "mod"
   ]
  },
  {
   "cell_type": "code",
   "execution_count": 22,
   "id": "dc53504a",
   "metadata": {},
   "outputs": [],
   "source": [
    "from mod import *"
   ]
  },
  {
   "cell_type": "code",
   "execution_count": null,
   "id": "1b4defc3",
   "metadata": {},
   "outputs": [],
   "source": []
  }
 ],
 "metadata": {
  "kernelspec": {
   "display_name": "Python 3",
   "language": "python",
   "name": "python3"
  },
  "language_info": {
   "codemirror_mode": {
    "name": "ipython",
    "version": 3
   },
   "file_extension": ".py",
   "mimetype": "text/x-python",
   "name": "python",
   "nbconvert_exporter": "python",
   "pygments_lexer": "ipython3",
   "version": "3.8.8"
  }
 },
 "nbformat": 4,
 "nbformat_minor": 5
}
