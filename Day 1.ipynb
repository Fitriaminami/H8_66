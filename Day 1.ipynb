{
 "cells": [
  {
   "cell_type": "code",
   "execution_count": 1,
   "id": "f48d70d7",
   "metadata": {},
   "outputs": [
    {
     "name": "stdout",
     "output_type": "stream",
     "text": [
      "Hello World day 1\n"
     ]
    }
   ],
   "source": [
    "print(\"Hello World day 1\")"
   ]
  },
  {
   "cell_type": "code",
   "execution_count": 2,
   "id": "244e1e51",
   "metadata": {},
   "outputs": [
    {
     "data": {
      "text/plain": [
       "4"
      ]
     },
     "execution_count": 2,
     "metadata": {},
     "output_type": "execute_result"
    }
   ],
   "source": [
    "2+2"
   ]
  },
  {
   "cell_type": "markdown",
   "id": "53daab54",
   "metadata": {},
   "source": [
    "4*4 membuat catatan dengan markdown (cell-celltyper-markdown) atau klik cell sampai biru, lalu escape, klik m, shift+enter)"
   ]
  },
  {
   "cell_type": "markdown",
   "id": "d605a5fb",
   "metadata": {},
   "source": [
    "# Title "
   ]
  },
  {
   "cell_type": "markdown",
   "id": "0b9778c3",
   "metadata": {},
   "source": [
    "## subtitle "
   ]
  },
  {
   "cell_type": "code",
   "execution_count": 4,
   "id": "5ae05c6a",
   "metadata": {},
   "outputs": [
    {
     "data": {
      "text/plain": [
       "int"
      ]
     },
     "execution_count": 4,
     "metadata": {},
     "output_type": "execute_result"
    }
   ],
   "source": [
    "type (123)"
   ]
  },
  {
   "cell_type": "code",
   "execution_count": 5,
   "id": "7398dbe2",
   "metadata": {},
   "outputs": [
    {
     "data": {
      "text/plain": [
       "121334124"
      ]
     },
     "execution_count": 5,
     "metadata": {},
     "output_type": "execute_result"
    }
   ],
   "source": [
    "121334123+1"
   ]
  },
  {
   "cell_type": "code",
   "execution_count": 6,
   "id": "c82abf87",
   "metadata": {},
   "outputs": [],
   "source": [
    "n = 300"
   ]
  },
  {
   "cell_type": "code",
   "execution_count": 7,
   "id": "7b43e2c9",
   "metadata": {},
   "outputs": [
    {
     "data": {
      "text/plain": [
       "300"
      ]
     },
     "execution_count": 7,
     "metadata": {},
     "output_type": "execute_result"
    }
   ],
   "source": [
    "n"
   ]
  },
  {
   "cell_type": "markdown",
   "id": "d4a56a14",
   "metadata": {},
   "source": [
    "# Variable Names"
   ]
  },
  {
   "cell_type": "code",
   "execution_count": 15,
   "id": "46a3f56f",
   "metadata": {},
   "outputs": [
    {
     "name": "stdout",
     "output_type": "stream",
     "text": [
      "Hactiv8 66 True\n"
     ]
    }
   ],
   "source": [
    "name = \"Hactiv8\"\n",
    "Age = \"66\"\n",
    "has_laptops = True\n",
    "print(name, Age, has_laptops)"
   ]
  },
  {
   "cell_type": "code",
   "execution_count": 14,
   "id": "47c08153",
   "metadata": {},
   "outputs": [
    {
     "name": "stdout",
     "output_type": "stream",
     "text": [
      "1 2 3\n"
     ]
    }
   ],
   "source": [
    "age = 1\n",
    "Age = 2\n",
    "AgE = 3\n",
    "print(age, Age, AgE)"
   ]
  },
  {
   "cell_type": "markdown",
   "id": "204ab61e",
   "metadata": {},
   "source": [
    "# Operations and Expression in Yp"
   ]
  },
  {
   "cell_type": "code",
   "execution_count": 16,
   "id": "4a8ee885",
   "metadata": {},
   "outputs": [],
   "source": [
    "a = 30\n",
    "b = 60"
   ]
  },
  {
   "cell_type": "code",
   "execution_count": 17,
   "id": "8e076ab9",
   "metadata": {},
   "outputs": [
    {
     "data": {
      "text/plain": [
       "90"
      ]
     },
     "execution_count": 17,
     "metadata": {},
     "output_type": "execute_result"
    }
   ],
   "source": [
    "a+b"
   ]
  },
  {
   "cell_type": "code",
   "execution_count": 18,
   "id": "85a6517b",
   "metadata": {},
   "outputs": [
    {
     "data": {
      "text/plain": [
       "80"
      ]
     },
     "execution_count": 18,
     "metadata": {},
     "output_type": "execute_result"
    }
   ],
   "source": [
    "a+b-10"
   ]
  },
  {
   "cell_type": "code",
   "execution_count": 22,
   "id": "08e3a23f",
   "metadata": {},
   "outputs": [
    {
     "name": "stdout",
     "output_type": "stream",
     "text": [
      "8\n",
      "0\n",
      "16\n",
      "256\n"
     ]
    }
   ],
   "source": [
    "a=4\n",
    "b=4\n",
    "\n",
    "print(a+a)\n",
    "print(a-a)\n",
    "print(a*a)\n",
    "print(a**a)"
   ]
  },
  {
   "cell_type": "markdown",
   "id": "336eb4e7",
   "metadata": {},
   "source": [
    "# Comparison Operator"
   ]
  },
  {
   "cell_type": "markdown",
   "id": "2a28ad95",
   "metadata": {},
   "source": [
    "a=10\n",
    "b=15\n",
    "\n",
    "a==b\n",
    "== artinya sama dengan biasa"
   ]
  },
  {
   "cell_type": "code",
   "execution_count": 24,
   "id": "4bf5b1de",
   "metadata": {},
   "outputs": [
    {
     "data": {
      "text/plain": [
       "False"
      ]
     },
     "execution_count": 24,
     "metadata": {},
     "output_type": "execute_result"
    }
   ],
   "source": [
    "a==b"
   ]
  },
  {
   "cell_type": "markdown",
   "id": "f422b338",
   "metadata": {},
   "source": [
    "# String Manipulation"
   ]
  },
  {
   "cell_type": "code",
   "execution_count": 28,
   "id": "03e6c798",
   "metadata": {},
   "outputs": [
    {
     "name": "stdout",
     "output_type": "stream",
     "text": [
      "footbaryap\n",
      "baryap\n"
     ]
    }
   ],
   "source": [
    "s = 'foot'\n",
    "t = 'bar'\n",
    "u = 'yap'\n",
    "\n",
    "print(s+t+u)\n",
    "print(t+u)"
   ]
  },
  {
   "cell_type": "code",
   "execution_count": 33,
   "id": "1682780a",
   "metadata": {},
   "outputs": [
    {
     "name": "stdout",
     "output_type": "stream",
     "text": [
      "True\n",
      "False\n"
     ]
    }
   ],
   "source": [
    "s = 'foo'\n",
    "\n",
    "print(s in 'this food is for me')\n",
    "print(s in 'that is good for you')\n"
   ]
  },
  {
   "cell_type": "code",
   "execution_count": 38,
   "id": "78e848f5",
   "metadata": {},
   "outputs": [
    {
     "name": "stdout",
     "output_type": "stream",
     "text": [
      "Hactiv8\n",
      "hactiv8\n",
      "HACTIV8\n"
     ]
    }
   ],
   "source": [
    "s = 'Hactiv8'\n",
    "\n",
    "print(s. capitalize ())\n",
    "print (s. lower())\n",
    "print (s. upper())"
   ]
  },
  {
   "cell_type": "markdown",
   "id": "d8ddd0e6",
   "metadata": {},
   "source": [
    "# python list"
   ]
  },
  {
   "cell_type": "code",
   "execution_count": 44,
   "id": "bae5ff2b",
   "metadata": {},
   "outputs": [],
   "source": [
    "a =[('foo', 'bar', 'a')]"
   ]
  },
  {
   "cell_type": "code",
   "execution_count": 40,
   "id": "21e5d205",
   "metadata": {},
   "outputs": [
    {
     "name": "stdout",
     "output_type": "stream",
     "text": [
      "('foo', 'bar', 'a')\n"
     ]
    }
   ],
   "source": [
    "print(a)"
   ]
  },
  {
   "cell_type": "code",
   "execution_count": 52,
   "id": "1999c191",
   "metadata": {},
   "outputs": [
    {
     "ename": "SyntaxError",
     "evalue": "invalid syntax (<ipython-input-52-d545817b7511>, line 2)",
     "output_type": "error",
     "traceback": [
      "\u001b[1;36m  File \u001b[1;32m\"<ipython-input-52-d545817b7511>\"\u001b[1;36m, line \u001b[1;32m2\u001b[0m\n\u001b[1;33m    print(a=[1:3])\u001b[0m\n\u001b[1;37m              ^\u001b[0m\n\u001b[1;31mSyntaxError\u001b[0m\u001b[1;31m:\u001b[0m invalid syntax\n"
     ]
    }
   ],
   "source": [
    "a = ['foo', 'bar', 'ha', 'yuk', \"juju\"]\n",
    "print(a=[1:3])"
   ]
  },
  {
   "cell_type": "code",
   "execution_count": null,
   "id": "ce71a3c6",
   "metadata": {},
   "outputs": [],
   "source": []
  }
 ],
 "metadata": {
  "kernelspec": {
   "display_name": "Python 3",
   "language": "python",
   "name": "python3"
  },
  "language_info": {
   "codemirror_mode": {
    "name": "ipython",
    "version": 3
   },
   "file_extension": ".py",
   "mimetype": "text/x-python",
   "name": "python",
   "nbconvert_exporter": "python",
   "pygments_lexer": "ipython3",
   "version": "3.8.8"
  }
 },
 "nbformat": 4,
 "nbformat_minor": 5
}
